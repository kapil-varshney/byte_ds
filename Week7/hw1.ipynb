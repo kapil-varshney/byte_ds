{
 "cells": [
  {
   "cell_type": "markdown",
   "metadata": {},
   "source": [
    "## Homework Assignment 1\n",
    "\n",
    "### Part 1 \n",
    "\n",
    "Write a script to transform input CSV to desired output CSV. \n",
    "\n",
    "You will find a CSV file available for download in this repo: test.csv. There are three steps to this part of the homework. Each step concerns manipulating the values for a single field according to the step's requirements. The steps are as follows:\n",
    "\n",
    "- String cleaning - The bio field contains text with arbitrary padding, spacing and line breaks. Normalize these values to a space-delimited string.\n",
    "- Code swap - There is a supplementary CSV file for download here: state_abbreviations.csv. This \"data dictionary\" contains state abbreviations alongside state names. For the state field of the input CSV, replace each state abbreviation with its associated state name from the data dictionary.\n",
    "- Date offset - The start_date field contains data in a variety of formats. These may include e.g., \"June 23, 1912\" or \"5/11/1930\" (month, day, year). But not all values are valid dates. Invalid dates may include e.g., \"June 2018\", \"3/06\" (incomplete dates) or even arbitrary natural language. Add a start_date_description field adjacent to the start_date column to filter invalid date values into. Normalize all valid date values in start_date to ISO 8601 (i.e., YYYY-MM-DD).\n",
    "\n",
    "Your script should take \"test.csv\" as input and produce a cleansed \"solution.csv\" file according to the step requirements above. Please attach your \"solution.csv\" file along with your solution code in your pull request!\n"
   ]
  },
  {
   "cell_type": "code",
   "execution_count": 1,
   "metadata": {
    "collapsed": true
   },
   "outputs": [],
   "source": [
    "import pandas as pd"
   ]
  },
  {
   "cell_type": "code",
   "execution_count": 74,
   "metadata": {},
   "outputs": [],
   "source": [
    "df = pd.read_csv('test.csv')"
   ]
  },
  {
   "cell_type": "code",
   "execution_count": 4,
   "metadata": {},
   "outputs": [
    {
     "data": {
      "text/html": [
       "<div>\n",
       "<style>\n",
       "    .dataframe thead tr:only-child th {\n",
       "        text-align: right;\n",
       "    }\n",
       "\n",
       "    .dataframe thead th {\n",
       "        text-align: left;\n",
       "    }\n",
       "\n",
       "    .dataframe tbody tr th {\n",
       "        vertical-align: top;\n",
       "    }\n",
       "</style>\n",
       "<table border=\"1\" class=\"dataframe\">\n",
       "  <thead>\n",
       "    <tr style=\"text-align: right;\">\n",
       "      <th></th>\n",
       "      <th>name</th>\n",
       "      <th>gender</th>\n",
       "      <th>birthdate</th>\n",
       "      <th>address</th>\n",
       "      <th>city</th>\n",
       "      <th>state</th>\n",
       "      <th>zipcode</th>\n",
       "      <th>email</th>\n",
       "      <th>bio</th>\n",
       "      <th>job</th>\n",
       "      <th>start_date</th>\n",
       "    </tr>\n",
       "  </thead>\n",
       "  <tbody>\n",
       "    <tr>\n",
       "      <th>0</th>\n",
       "      <td>Nathalia Moore DDS</td>\n",
       "      <td>M</td>\n",
       "      <td>2006-01-24</td>\n",
       "      <td>04078 Maximilian Brooks Suite 319</td>\n",
       "      <td>Montgomeryland</td>\n",
       "      <td>LA</td>\n",
       "      <td>63077</td>\n",
       "      <td>leeann.hermann@yahoo.com</td>\n",
       "      <td>Autem vero aliquid repellendus illo distinctio...</td>\n",
       "      <td>Tax inspector</td>\n",
       "      <td>12/31/1991</td>\n",
       "    </tr>\n",
       "    <tr>\n",
       "      <th>1</th>\n",
       "      <td>Mrs. Ottilie Grady</td>\n",
       "      <td>F</td>\n",
       "      <td>1972-03-01</td>\n",
       "      <td>6378 Gerhold Glens Suite 234</td>\n",
       "      <td>New Conortown</td>\n",
       "      <td>MA</td>\n",
       "      <td>19394</td>\n",
       "      <td>sunday99@schummgreenfelder.com</td>\n",
       "      <td>Culpa possimus laudantium earum ducimus dolori...</td>\n",
       "      <td>Merchandiser, retail</td>\n",
       "      <td>10/84</td>\n",
       "    </tr>\n",
       "    <tr>\n",
       "      <th>2</th>\n",
       "      <td>Ignacio Kuhic</td>\n",
       "      <td>M</td>\n",
       "      <td>2004-07-25</td>\n",
       "      <td>628 Brown Mission Suite 282</td>\n",
       "      <td>East Hildegarde</td>\n",
       "      <td>IA</td>\n",
       "      <td>49353</td>\n",
       "      <td>smetz@ortiz.com</td>\n",
       "      <td>Illum quos qui voluptatum sit ex nesciunt inve...</td>\n",
       "      <td>Broadcast journalist</td>\n",
       "      <td>February 2009</td>\n",
       "    </tr>\n",
       "    <tr>\n",
       "      <th>3</th>\n",
       "      <td>Ms. Suzie Luettgen</td>\n",
       "      <td>F</td>\n",
       "      <td>2006-08-19</td>\n",
       "      <td>81525 Donnelly Mountains Apt. 227</td>\n",
       "      <td>Port Luztown</td>\n",
       "      <td>NY</td>\n",
       "      <td>60325</td>\n",
       "      <td>von.elizabeth@wunsch.org</td>\n",
       "      <td>Laboriosam esse dolor et quas maiores deleniti...</td>\n",
       "      <td>Early years teacher</td>\n",
       "      <td>December 10, 1980</td>\n",
       "    </tr>\n",
       "    <tr>\n",
       "      <th>4</th>\n",
       "      <td>Trumaine Hammes</td>\n",
       "      <td>M</td>\n",
       "      <td>1990-01-14</td>\n",
       "      <td>118 Alphonso Islands Apt. 613</td>\n",
       "      <td>Bookerberg</td>\n",
       "      <td>CT</td>\n",
       "      <td>56335</td>\n",
       "      <td>schmidt.gwen@hotmail.com</td>\n",
       "      <td>Amet cumque animi sint nisi placeat quis aut n...</td>\n",
       "      <td>Ranger/warden</td>\n",
       "      <td>10/07/1981</td>\n",
       "    </tr>\n",
       "  </tbody>\n",
       "</table>\n",
       "</div>"
      ],
      "text/plain": [
       "                 name gender   birthdate                            address  \\\n",
       "0  Nathalia Moore DDS      M  2006-01-24  04078 Maximilian Brooks Suite 319   \n",
       "1  Mrs. Ottilie Grady      F  1972-03-01       6378 Gerhold Glens Suite 234   \n",
       "2       Ignacio Kuhic      M  2004-07-25        628 Brown Mission Suite 282   \n",
       "3  Ms. Suzie Luettgen      F  2006-08-19  81525 Donnelly Mountains Apt. 227   \n",
       "4     Trumaine Hammes      M  1990-01-14      118 Alphonso Islands Apt. 613   \n",
       "\n",
       "              city state  zipcode                           email  \\\n",
       "0   Montgomeryland    LA    63077        leeann.hermann@yahoo.com   \n",
       "1    New Conortown    MA    19394  sunday99@schummgreenfelder.com   \n",
       "2  East Hildegarde    IA    49353                 smetz@ortiz.com   \n",
       "3     Port Luztown    NY    60325        von.elizabeth@wunsch.org   \n",
       "4       Bookerberg    CT    56335        schmidt.gwen@hotmail.com   \n",
       "\n",
       "                                                 bio                   job  \\\n",
       "0  Autem vero aliquid repellendus illo distinctio...         Tax inspector   \n",
       "1  Culpa possimus laudantium earum ducimus dolori...  Merchandiser, retail   \n",
       "2  Illum quos qui voluptatum sit ex nesciunt inve...  Broadcast journalist   \n",
       "3  Laboriosam esse dolor et quas maiores deleniti...   Early years teacher   \n",
       "4  Amet cumque animi sint nisi placeat quis aut n...         Ranger/warden   \n",
       "\n",
       "          start_date  \n",
       "0         12/31/1991  \n",
       "1              10/84  \n",
       "2      February 2009  \n",
       "3  December 10, 1980  \n",
       "4         10/07/1981  "
      ]
     },
     "execution_count": 4,
     "metadata": {},
     "output_type": "execute_result"
    }
   ],
   "source": [
    "df.head()"
   ]
  },
  {
   "cell_type": "code",
   "execution_count": null,
   "metadata": {},
   "outputs": [],
   "source": [
    "df.tail()\n",
    "df.shape\n",
    "df.column\n",
    "len(df.index)"
   ]
  },
  {
   "cell_type": "code",
   "execution_count": 79,
   "metadata": {
    "collapsed": true
   },
   "outputs": [],
   "source": [
    "# Make a copy of the data frame\n",
    "mod_df = df.copy()\n",
    "mod_df"
   ]
  },
  {
   "cell_type": "code",
   "execution_count": 80,
   "metadata": {},
   "outputs": [],
   "source": [
    "# String cleaning\n",
    "mod_df['bio'] = mod_df['bio'].apply(lambda x: \" \".join(x.split()))"
   ]
  },
  {
   "cell_type": "code",
   "execution_count": 119,
   "metadata": {},
   "outputs": [],
   "source": [
    "# Read the state_abbreviations.csv into a pandas data frame\n",
    "state_names = pd.read_csv('state_abbreviations.csv')\n",
    "\n",
    "# Convert the state_names dataframe to a dictionary\n",
    "sn_dict = dict((i, a) for i, a in zip(state_names.state_abbr, state_names.state_name))"
   ]
  },
  {
   "cell_type": "code",
   "execution_count": 149,
   "metadata": {},
   "outputs": [],
   "source": [
    "# update the state abbreviations to state names in mod_df\n",
    "\n",
    "for i in range(len(df_state.index)):\n",
    "    mod_df.loc[i, 'state'] = sn_dict[mod_df.loc[i, 'state']]"
   ]
  },
  {
   "cell_type": "code",
   "execution_count": 151,
   "metadata": {
    "collapsed": true
   },
   "outputs": [],
   "source": [
    "new_df = df.copy()"
   ]
  },
  {
   "cell_type": "code",
   "execution_count": 163,
   "metadata": {},
   "outputs": [
    {
     "data": {
      "text/plain": [
       "0     1991-12-31\n",
       "1     1984-10-01\n",
       "2     2009-02-01\n",
       "3     1980-12-10\n",
       "4     1981-10-07\n",
       "5            NaT\n",
       "6     1977-06-26\n",
       "7     2001-07-03\n",
       "8     2001-11-01\n",
       "9     1970-09-25\n",
       "10           NaT\n",
       "11    1981-04-01\n",
       "12    1991-05-01\n",
       "13           NaT\n",
       "14    1995-12-01\n",
       "15    2002-03-01\n",
       "16    2003-11-18\n",
       "17    1979-08-01\n",
       "18    1977-09-30\n",
       "19    1983-05-01\n",
       "20    1970-05-15\n",
       "21           NaT\n",
       "22           NaT\n",
       "23           NaT\n",
       "24    1973-07-01\n",
       "25           NaT\n",
       "26           NaT\n",
       "27    1978-03-16\n",
       "28           NaT\n",
       "29           NaT\n",
       "         ...    \n",
       "470          NaT\n",
       "471          NaT\n",
       "472   1976-05-17\n",
       "473          NaT\n",
       "474          NaT\n",
       "475          NaT\n",
       "476   1998-03-05\n",
       "477   1982-08-07\n",
       "478   1973-09-01\n",
       "479          NaT\n",
       "480          NaT\n",
       "481   1980-06-01\n",
       "482   1989-12-01\n",
       "483   1991-03-01\n",
       "484   1998-01-01\n",
       "485          NaT\n",
       "486   2013-08-01\n",
       "487          NaT\n",
       "488   1987-02-08\n",
       "489          NaT\n",
       "490   1997-12-01\n",
       "491   1984-04-14\n",
       "492   2011-09-06\n",
       "493          NaT\n",
       "494   1992-11-22\n",
       "495          NaT\n",
       "496          NaT\n",
       "497          NaT\n",
       "498          NaT\n",
       "499   1987-05-01\n",
       "Name: start_date, Length: 500, dtype: datetime64[ns]"
      ]
     },
     "execution_count": 163,
     "metadata": {},
     "output_type": "execute_result"
    }
   ],
   "source": [
    "pd.to_datetime(new_df['start_date'], errors = 'coerce')"
   ]
  },
  {
   "cell_type": "code",
   "execution_count": 158,
   "metadata": {},
   "outputs": [
    {
     "data": {
      "text/plain": [
       "0                12/31/1991\n",
       "1                     10/84\n",
       "2             February 2009\n",
       "3         December 10, 1980\n",
       "4                10/07/1981\n",
       "5         Facere voluptate.\n",
       "6             June 26, 1977\n",
       "7              July 3, 2001\n",
       "8             November 2001\n",
       "9        September 25, 1970\n",
       "10                    05/13\n",
       "11                    04/81\n",
       "12                    05/91\n",
       "13                    03/14\n",
       "14                    12/95\n",
       "15               March 2002\n",
       "16        November 18, 2003\n",
       "17              August 1979\n",
       "18       September 30, 1977\n",
       "19                 May 1983\n",
       "20             May 15, 1970\n",
       "21       Adipisci delectus.\n",
       "22      Sed consequatur in.\n",
       "23                    04/04\n",
       "24                    07/73\n",
       "25     Ducimus eligendi et.\n",
       "26       Aut impedit culpa.\n",
       "27               03/16/1978\n",
       "28          In dolorum eum.\n",
       "29      Autem molestiae in.\n",
       "               ...         \n",
       "470     Cupiditate quaerat.\n",
       "471    Qui officiis beatae.\n",
       "472              1976-05-17\n",
       "473     Est nulla sapiente.\n",
       "474              Similique.\n",
       "475         Tempore soluta.\n",
       "476              1998-03-05\n",
       "477          August 7, 1982\n",
       "478                   09/73\n",
       "479     Ducimus recusandae.\n",
       "480       Est perspiciatis.\n",
       "481               June 1980\n",
       "482           December 1989\n",
       "483              March 1991\n",
       "484                   01/98\n",
       "485     Iste quia beatae a.\n",
       "486          August 1, 2013\n",
       "487     Sequi ut explicabo.\n",
       "488        February 8, 1987\n",
       "489              Molestiae.\n",
       "490           December 1997\n",
       "491          April 14, 1984\n",
       "492       September 6, 2011\n",
       "493                   06/10\n",
       "494       November 22, 1992\n",
       "495       Officia vel unde.\n",
       "496                   03/13\n",
       "497        Est magni culpa.\n",
       "498    Eum voluptatem quis.\n",
       "499                May 1987\n",
       "Name: start_date, Length: 500, dtype: object"
      ]
     },
     "execution_count": 158,
     "metadata": {},
     "output_type": "execute_result"
    }
   ],
   "source": [
    "new_df['start_date']"
   ]
  },
  {
   "cell_type": "code",
   "execution_count": 173,
   "metadata": {},
   "outputs": [
    {
     "data": {
      "text/html": [
       "<div>\n",
       "<style>\n",
       "    .dataframe thead tr:only-child th {\n",
       "        text-align: right;\n",
       "    }\n",
       "\n",
       "    .dataframe thead th {\n",
       "        text-align: left;\n",
       "    }\n",
       "\n",
       "    .dataframe tbody tr th {\n",
       "        vertical-align: top;\n",
       "    }\n",
       "</style>\n",
       "<table border=\"1\" class=\"dataframe\">\n",
       "  <thead>\n",
       "    <tr style=\"text-align: right;\">\n",
       "      <th></th>\n",
       "      <th>name</th>\n",
       "      <th>gender</th>\n",
       "      <th>birthdate</th>\n",
       "      <th>address</th>\n",
       "      <th>city</th>\n",
       "      <th>state</th>\n",
       "      <th>zipcode</th>\n",
       "      <th>email</th>\n",
       "      <th>bio</th>\n",
       "      <th>job</th>\n",
       "      <th>start_date</th>\n",
       "    </tr>\n",
       "  </thead>\n",
       "  <tbody>\n",
       "    <tr>\n",
       "      <th>1</th>\n",
       "      <td>Mrs. Ottilie Grady</td>\n",
       "      <td>F</td>\n",
       "      <td>1972-03-01</td>\n",
       "      <td>6378 Gerhold Glens Suite 234</td>\n",
       "      <td>New Conortown</td>\n",
       "      <td>MA</td>\n",
       "      <td>19394</td>\n",
       "      <td>sunday99@schummgreenfelder.com</td>\n",
       "      <td>Culpa possimus laudantium earum ducimus dolori...</td>\n",
       "      <td>Merchandiser, retail</td>\n",
       "      <td>10/84</td>\n",
       "    </tr>\n",
       "  </tbody>\n",
       "</table>\n",
       "</div>"
      ],
      "text/plain": [
       "                 name gender   birthdate                       address  \\\n",
       "1  Mrs. Ottilie Grady      F  1972-03-01  6378 Gerhold Glens Suite 234   \n",
       "\n",
       "            city state  zipcode                           email  \\\n",
       "1  New Conortown    MA    19394  sunday99@schummgreenfelder.com   \n",
       "\n",
       "                                                 bio                   job  \\\n",
       "1  Culpa possimus laudantium earum ducimus dolori...  Merchandiser, retail   \n",
       "\n",
       "  start_date  \n",
       "1      10/84  "
      ]
     },
     "execution_count": 173,
     "metadata": {},
     "output_type": "execute_result"
    }
   ],
   "source": [
    "df[df['name'] == 'Mrs. Ottilie Grady']"
   ]
  },
  {
   "cell_type": "code",
   "execution_count": null,
   "metadata": {
    "collapsed": true
   },
   "outputs": [],
   "source": []
  }
 ],
 "metadata": {
  "kernelspec": {
   "display_name": "Python 3",
   "language": "python",
   "name": "python3"
  },
  "language_info": {
   "codemirror_mode": {
    "name": "ipython",
    "version": 3
   },
   "file_extension": ".py",
   "mimetype": "text/x-python",
   "name": "python",
   "nbconvert_exporter": "python",
   "pygments_lexer": "ipython3",
   "version": "3.5.2+"
  }
 },
 "nbformat": 4,
 "nbformat_minor": 2
}
