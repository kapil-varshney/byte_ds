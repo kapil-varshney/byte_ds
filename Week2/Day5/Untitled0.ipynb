{
 "metadata": {
  "name": "",
  "signature": "sha256:5a6a3c89a369d201e7d40cc020bd0e6467b52802296d6d8a1f727c8c29674b41"
 },
 "nbformat": 3,
 "nbformat_minor": 0,
 "worksheets": [
  {
   "cells": [
    {
     "cell_type": "code",
     "collapsed": false,
     "input": [
      "#!/usr/bin/env python3\n",
      "\n",
      "import numpy as np\n",
      "import pandas as pd"
     ],
     "language": "python",
     "metadata": {},
     "outputs": [],
     "prompt_number": 2
    },
    {
     "cell_type": "code",
     "collapsed": false,
     "input": [],
     "language": "python",
     "metadata": {},
     "outputs": []
    }
   ],
   "metadata": {}
  }
 ]
}