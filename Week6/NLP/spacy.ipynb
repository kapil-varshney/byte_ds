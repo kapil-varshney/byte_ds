{
 "metadata": {
  "kernelspec": {
   "display_name": "Python 3",
   "language": "python",
   "name": "python3"
  },
  "language_info": {
   "codemirror_mode": {
    "name": "ipython",
    "version": 3
   },
   "file_extension": ".py",
   "mimetype": "text/x-python",
   "name": "python",
   "nbconvert_exporter": "python",
   "pygments_lexer": "ipython3",
   "version": "3.6.1"
  },
  "name": "",
  "signature": "sha256:e71f9de9661b3003634a709df1942ea2200171f0de501c23a3772951cb000995"
 },
 "nbformat": 3,
 "nbformat_minor": 0,
 "worksheets": [
  {
   "cells": [
    {
     "cell_type": "markdown",
     "metadata": {},
     "source": [
      "### install\n",
      "\n",
      "```\n",
      "pip3 install spacy\n",
      "```"
     ]
    },
    {
     "cell_type": "heading",
     "level": 3,
     "metadata": {},
     "source": [
      "import"
     ]
    },
    {
     "cell_type": "code",
     "collapsed": true,
     "input": [
      "import spacy"
     ],
     "language": "python",
     "metadata": {},
     "outputs": [],
     "prompt_number": 1
    },
    {
     "cell_type": "heading",
     "level": 3,
     "metadata": {},
     "source": [
      "data"
     ]
    },
    {
     "cell_type": "raw",
     "metadata": {},
     "source": [
      "python3 -m spacy.en.download all"
     ]
    },
    {
     "cell_type": "code",
     "collapsed": false,
     "input": [
      "x=spacy.load('en')\n",
      "print(x)"
     ],
     "language": "python",
     "metadata": {},
     "outputs": [
      {
       "output_type": "stream",
       "stream": "stdout",
       "text": [
        "<spacy.en.English object at 0x7fcf2780d4a8>\n"
       ]
      }
     ],
     "prompt_number": 7
    },
    {
     "cell_type": "code",
     "collapsed": true,
     "input": [
      "parser = spacy.en.English()\n",
      "# you can access known words from the parser's vocabulary\n",
      "nasa = parser.vocab['NASA']"
     ],
     "language": "python",
     "metadata": {},
     "outputs": [],
     "prompt_number": 8
    },
    {
     "cell_type": "heading",
     "level": 3,
     "metadata": {},
     "source": [
      "loading text"
     ]
    },
    {
     "cell_type": "code",
     "collapsed": true,
     "input": [
      "x=x(\"Hello, I like to program. My favorite language is Python.\")"
     ],
     "language": "python",
     "metadata": {},
     "outputs": [],
     "prompt_number": 9
    },
    {
     "cell_type": "code",
     "collapsed": false,
     "input": [
      "print(x)"
     ],
     "language": "python",
     "metadata": {},
     "outputs": [
      {
       "output_type": "stream",
       "stream": "stdout",
       "text": [
        "Hello, I like to program. My favorite language is Python.\n"
       ]
      }
     ],
     "prompt_number": 10
    },
    {
     "cell_type": "heading",
     "level": 3,
     "metadata": {},
     "source": [
      "sentences"
     ]
    },
    {
     "cell_type": "code",
     "collapsed": false,
     "input": [
      "for i in x.sents:\n",
      "    print(i)"
     ],
     "language": "python",
     "metadata": {},
     "outputs": [
      {
       "output_type": "stream",
       "stream": "stdout",
       "text": [
        "Hello, I like to program.\n",
        "My favorite language is Python.\n"
       ]
      }
     ],
     "prompt_number": 11
    },
    {
     "cell_type": "heading",
     "level": 3,
     "metadata": {},
     "source": [
      "original"
     ]
    },
    {
     "cell_type": "code",
     "collapsed": false,
     "input": [
      "x[0].orth_"
     ],
     "language": "python",
     "metadata": {},
     "outputs": [
      {
       "metadata": {},
       "output_type": "pyout",
       "prompt_number": 12,
       "text": [
        "'Hello'"
       ]
      }
     ],
     "prompt_number": 12
    },
    {
     "cell_type": "heading",
     "level": 3,
     "metadata": {},
     "source": [
      "lower"
     ]
    },
    {
     "cell_type": "code",
     "collapsed": false,
     "input": [
      "x[0].lower_"
     ],
     "language": "python",
     "metadata": {},
     "outputs": [
      {
       "metadata": {},
       "output_type": "pyout",
       "prompt_number": 13,
       "text": [
        "'hello'"
       ]
      }
     ],
     "prompt_number": 13
    },
    {
     "cell_type": "heading",
     "level": 3,
     "metadata": {},
     "source": [
      "prefix"
     ]
    },
    {
     "cell_type": "code",
     "collapsed": false,
     "input": [
      "x[0].prefix_"
     ],
     "language": "python",
     "metadata": {},
     "outputs": [
      {
       "metadata": {},
       "output_type": "pyout",
       "prompt_number": 14,
       "text": [
        "'H'"
       ]
      }
     ],
     "prompt_number": 14
    },
    {
     "cell_type": "heading",
     "level": 3,
     "metadata": {},
     "source": [
      "suffix"
     ]
    },
    {
     "cell_type": "code",
     "collapsed": false,
     "input": [
      "x[0].suffix_"
     ],
     "language": "python",
     "metadata": {},
     "outputs": [
      {
       "metadata": {},
       "output_type": "pyout",
       "prompt_number": 15,
       "text": [
        "'llo'"
       ]
      }
     ],
     "prompt_number": 15
    },
    {
     "cell_type": "heading",
     "level": 3,
     "metadata": {},
     "source": [
      "shape"
     ]
    },
    {
     "cell_type": "code",
     "collapsed": false,
     "input": [
      "print(x[0].shape_)"
     ],
     "language": "python",
     "metadata": {},
     "outputs": [
      {
       "output_type": "stream",
       "stream": "stdout",
       "text": [
        "Xxxxx\n"
       ]
      }
     ],
     "prompt_number": 16
    },
    {
     "cell_type": "heading",
     "level": 3,
     "metadata": {},
     "source": [
      "log probability"
     ]
    },
    {
     "cell_type": "code",
     "collapsed": false,
     "input": [
      "print(x[0].prob)"
     ],
     "language": "python",
     "metadata": {},
     "outputs": [
      {
       "output_type": "stream",
       "stream": "stdout",
       "text": [
        "-11.369197845458984\n"
       ]
      }
     ],
     "prompt_number": 17
    },
    {
     "cell_type": "heading",
     "level": 3,
     "metadata": {},
     "source": [
      "brown cluster ID"
     ]
    },
    {
     "cell_type": "code",
     "collapsed": false,
     "input": [
      "print(x[0].cluster)"
     ],
     "language": "python",
     "metadata": {},
     "outputs": [
      {
       "output_type": "stream",
       "stream": "stdout",
       "text": [
        "1726\n"
       ]
      }
     ],
     "prompt_number": 18
    },
    {
     "cell_type": "heading",
     "level": 3,
     "metadata": {},
     "source": [
      "vectors"
     ]
    },
    {
     "cell_type": "code",
     "collapsed": false,
     "input": [
      "king = x.vocab['king'].vector"
     ],
     "language": "python",
     "metadata": {},
     "outputs": [],
     "prompt_number": 19
    },
    {
     "cell_type": "heading",
     "level": 3,
     "metadata": {},
     "source": [
      "lemmatizing"
     ]
    },
    {
     "cell_type": "code",
     "collapsed": false,
     "input": [
      "for i in x:\n",
      "    print(i,\":\",i.lemma_)"
     ],
     "language": "python",
     "metadata": {},
     "outputs": [
      {
       "output_type": "stream",
       "stream": "stdout",
       "text": [
        "Hello : hello\n",
        ", : ,\n",
        "I : -PRON-\n",
        "like : like\n",
        "to : to\n",
        "program : program\n",
        ". : .\n",
        "My : -PRON-\n",
        "favorite : favorite\n",
        "language : language\n",
        "is : be\n",
        "Python : python\n",
        ". : .\n"
       ]
      }
     ],
     "prompt_number": 20
    },
    {
     "cell_type": "heading",
     "level": 3,
     "metadata": {},
     "source": [
      "parts of speech"
     ]
    },
    {
     "cell_type": "code",
     "collapsed": false,
     "input": [
      "for i in x:\n",
      "    print(i,\":\",i.pos_)"
     ],
     "language": "python",
     "metadata": {},
     "outputs": [
      {
       "output_type": "stream",
       "stream": "stdout",
       "text": [
        "Hello : INTJ\n",
        ", : PUNCT\n",
        "I : PRON\n",
        "like : VERB\n",
        "to : PART\n",
        "program : VERB\n",
        ". : PUNCT\n",
        "My : ADJ\n",
        "favorite : ADJ\n",
        "language : NOUN\n",
        "is : VERB\n",
        "Python : PROPN\n",
        ". : PUNCT\n"
       ]
      }
     ],
     "prompt_number": 21
    },
    {
     "cell_type": "heading",
     "level": 3,
     "metadata": {},
     "source": [
      "entities"
     ]
    },
    {
     "cell_type": "code",
     "collapsed": false,
     "input": [
      "for i in x.ents:\n",
      "    print(i,i.label_)"
     ],
     "language": "python",
     "metadata": {},
     "outputs": [
      {
       "output_type": "stream",
       "stream": "stdout",
       "text": [
        "Python PERSON\n"
       ]
      }
     ],
     "prompt_number": 22
    },
    {
     "cell_type": "heading",
     "level": 3,
     "metadata": {},
     "source": [
      "nounphrases"
     ]
    },
    {
     "cell_type": "code",
     "collapsed": false,
     "input": [
      "for i in x.noun_chunks:\n",
      "    print(i)"
     ],
     "language": "python",
     "metadata": {},
     "outputs": [
      {
       "output_type": "stream",
       "stream": "stdout",
       "text": [
        "I\n",
        "My favorite language\n",
        "Python\n"
       ]
      }
     ],
     "prompt_number": 23
    },
    {
     "cell_type": "heading",
     "level": 3,
     "metadata": {},
     "source": [
      "similarity"
     ]
    },
    {
     "cell_type": "code",
     "collapsed": false,
     "input": [
      "print(x[5],x[9])\n",
      "x[5].similarity(x[9])"
     ],
     "language": "python",
     "metadata": {},
     "outputs": [
      {
       "output_type": "stream",
       "stream": "stdout",
       "text": [
        "program language\n"
       ]
      },
      {
       "metadata": {},
       "output_type": "pyout",
       "prompt_number": 24,
       "text": [
        "0.35885008670925489"
       ]
      }
     ],
     "prompt_number": 24
    },
    {
     "cell_type": "heading",
     "level": 3,
     "metadata": {},
     "source": [
      "dependency trees"
     ]
    },
    {
     "cell_type": "code",
     "collapsed": false,
     "input": [
      "for i in x.sents:\n",
      "    print(i.root)\n",
      "    print(list(i.root.children))"
     ],
     "language": "python",
     "metadata": {},
     "outputs": [
      {
       "output_type": "stream",
       "stream": "stdout",
       "text": [
        "like\n",
        "[Hello, ,, I, program, .]\n",
        "is\n",
        "[language, Python, .]\n"
       ]
      }
     ],
     "prompt_number": 25
    },
    {
     "cell_type": "code",
     "collapsed": true,
     "input": [],
     "language": "python",
     "metadata": {},
     "outputs": [],
     "prompt_number": 25
    },
    {
     "cell_type": "code",
     "collapsed": false,
     "input": [],
     "language": "python",
     "metadata": {},
     "outputs": []
    }
   ],
   "metadata": {}
  }
 ]
}